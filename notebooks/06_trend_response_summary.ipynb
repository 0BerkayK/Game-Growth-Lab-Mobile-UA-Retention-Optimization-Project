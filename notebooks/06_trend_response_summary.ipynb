{
 "cells": [
  {
   "cell_type": "code",
   "execution_count": 1,
   "id": "df0442ac-ff0b-43ee-9c39-be1e813ac415",
   "metadata": {},
   "outputs": [],
   "source": [
    "import pandas as pd\n",
    "import numpy as np\n",
    "\n",
    "# Load data\n",
    "ua = pd.read_csv(\"../data/user_acquisition.csv\")\n",
    "game_updates = pd.read_csv(\"../data/game_updates.csv\")\n",
    "\n",
    "# Assume that industry trends are known (example trends)\n",
    "industry_trends = {\n",
    "    \"playable_ads\": True,\n",
    "    \"rewarded_videos\": True,\n",
    "    \"interactive_ads\": False\n",
    "}\n",
    "\n",
    "# Simulate creative performance data for different trend types\n",
    "# For simplicity, we add trend tags randomly to creatives in ua\n",
    "\n",
    "np.random.seed(42)"
   ]
  },
  {
   "cell_type": "code",
   "execution_count": 2,
   "id": "92fcf546-bdb5-4621-bb7e-91e40dc04504",
   "metadata": {},
   "outputs": [],
   "source": [
    "creative_ids = ua['creative_id'].unique()\n",
    "trend_tags = ['playable_ads', 'rewarded_videos', 'interactive_ads', 'none']\n",
    "\n",
    "# Assign trend tags randomly to each creative\n",
    "creative_trends = pd.DataFrame({\n",
    "    'creative_id': creative_ids,\n",
    "    'trend_tag': np.random.choice(trend_tags, size=len(creative_ids), p=[0.4, 0.3, 0.1, 0.2])\n",
    "})"
   ]
  },
  {
   "cell_type": "code",
   "execution_count": 3,
   "id": "d81ff33f-ffaa-486e-9aa6-bbe033a214db",
   "metadata": {},
   "outputs": [],
   "source": [
    "# Merge trend tags back to ua\n",
    "ua = ua.merge(creative_trends, on='creative_id', how='left')\n",
    "\n",
    "# Aggregate performance metrics by trend_tag\n",
    "trend_performance = ua.groupby('trend_tag').agg({\n",
    "    'cost': 'sum',\n",
    "    'impressions': 'sum',\n",
    "    'clicks': 'sum',\n",
    "    'installs': 'sum'\n",
    "}).reset_index()"
   ]
  },
  {
   "cell_type": "code",
   "execution_count": 4,
   "id": "a915b8db-bb34-4f6a-9706-56e9751bc251",
   "metadata": {},
   "outputs": [
    {
     "name": "stdout",
     "output_type": "stream",
     "text": [
      "📈 Industry Trend Performance Summary:\n",
      "         trend_tag      cost  impressions  clicks  installs       CPI  \\\n",
      "0  interactive_ads   7779.19       605991   15945      6334  1.228164   \n",
      "1             none   8861.31       520407   15861      6684  1.325750   \n",
      "2     playable_ads   8581.24       564583   17120      6538  1.312518   \n",
      "3  rewarded_videos  10989.27       695618   20463      7709  1.425512   \n",
      "\n",
      "        CTR       CVR  \n",
      "0  0.026312  0.397241  \n",
      "1  0.030478  0.421411  \n",
      "2  0.030323  0.381893  \n",
      "3  0.029417  0.376729  \n"
     ]
    }
   ],
   "source": [
    "# Calculate KPIs\n",
    "trend_performance['CPI'] = trend_performance['cost'] / trend_performance['installs'].replace(0, np.nan)\n",
    "trend_performance['CTR'] = trend_performance['clicks'] / trend_performance['impressions'].replace(0, np.nan)\n",
    "trend_performance['CVR'] = trend_performance['installs'] / trend_performance['clicks'].replace(0, np.nan)\n",
    "\n",
    "print(\"📈 Industry Trend Performance Summary:\")\n",
    "print(trend_performance)\n"
   ]
  },
  {
   "cell_type": "code",
   "execution_count": 5,
   "id": "edfc7715-263e-4d68-a6d8-80663f6b30e4",
   "metadata": {},
   "outputs": [
    {
     "name": "stdout",
     "output_type": "stream",
     "text": [
      "\n",
      "📋 Recommended Action Plan:\n",
      "- playable_ads: Increase budget and creatives focusing on playable ads due to strong engagement.\n",
      "- rewarded_videos: Optimize rewarded video ads placement and frequency.\n",
      "- interactive_ads: Monitor and test interactive ads, current data insufficient.\n",
      "- none: Evaluate creatives without specific trend tags for optimization.\n"
     ]
    }
   ],
   "source": [
    "# Action plan based on trends\n",
    "action_plan = {\n",
    "    \"playable_ads\": \"Increase budget and creatives focusing on playable ads due to strong engagement.\",\n",
    "    \"rewarded_videos\": \"Optimize rewarded video ads placement and frequency.\",\n",
    "    \"interactive_ads\": \"Monitor and test interactive ads, current data insufficient.\",\n",
    "    \"none\": \"Evaluate creatives without specific trend tags for optimization.\"\n",
    "}\n",
    "\n",
    "print(\"\\n📋 Recommended Action Plan:\")\n",
    "for trend, action in action_plan.items():\n",
    "    print(f\"- {trend}: {action}\")"
   ]
  },
  {
   "cell_type": "code",
   "execution_count": null,
   "id": "20f6dab2-9dfe-4c59-8f4e-209dd0175d2f",
   "metadata": {},
   "outputs": [],
   "source": []
  }
 ],
 "metadata": {
  "kernelspec": {
   "display_name": "Python 3 (ipykernel)",
   "language": "python",
   "name": "python3"
  },
  "language_info": {
   "codemirror_mode": {
    "name": "ipython",
    "version": 3
   },
   "file_extension": ".py",
   "mimetype": "text/x-python",
   "name": "python",
   "nbconvert_exporter": "python",
   "pygments_lexer": "ipython3",
   "version": "3.12.7"
  }
 },
 "nbformat": 4,
 "nbformat_minor": 5
}
