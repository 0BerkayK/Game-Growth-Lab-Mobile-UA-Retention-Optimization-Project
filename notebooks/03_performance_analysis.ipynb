{
 "cells": [
  {
   "cell_type": "code",
   "execution_count": 1,
   "id": "7d63caa3-1d11-491a-ae94-e35a881fa194",
   "metadata": {},
   "outputs": [],
   "source": [
    "import pandas as pd\n",
    "import numpy as np\n",
    "import matplotlib.pyplot as plt\n",
    "import seaborn as sns"
   ]
  },
  {
   "cell_type": "code",
   "execution_count": 2,
   "id": "fa75714d-c1dc-4fc3-94fa-a554c74de742",
   "metadata": {},
   "outputs": [],
   "source": [
    "ua = pd.read_csv(\"../data/user_acquisition.csv\")\n",
    "installs = pd.read_csv(\"../data/installs.csv\")\n",
    "retention = pd.read_csv(\"../data/retention.csv\")\n",
    "purchases = pd.read_csv(\"../data/purchases.csv\")\n"
   ]
  },
  {
   "cell_type": "code",
   "execution_count": 18,
   "id": "cef996d9-87a6-4e48-89d6-1fd1a5e2dc82",
   "metadata": {},
   "outputs": [
    {
     "name": "stdout",
     "output_type": "stream",
     "text": [
      "📊 Creative Based Campaign Summary\n",
      "  creative_id     spend  impressions  clicks  installs       CPI       CTR  \\\n",
      "0           A  10989.27       695618   20463      7709  1.425512  0.029417   \n",
      "1           B   7779.19       605991   15945      6334  1.228164  0.026312   \n",
      "2           C   8861.31       520407   15861      6684  1.325750  0.030478   \n",
      "3           D   8581.24       564583   17120      6538  1.312518  0.030323   \n",
      "\n",
      "        CVR  \n",
      "0  0.376729  \n",
      "1  0.397241  \n",
      "2  0.421411  \n",
      "3  0.381893  \n",
      "\n",
      "💰 Total Revenue: 7601.72\n",
      "📥 Total Installation (Unique User): 1000\n",
      "📈 Average Income (LTV Proxy): 7.60\n",
      "\n",
      "🔄 D1 Retention Rate: 60.90%\n",
      "🔄 D7 Retention Rate: 27.90%\n",
      "🔄 D30 Retention Rate: 8.20%\n"
     ]
    },
    {
     "data": {
      "image/png": "[encoded data removed]",
      "text/plain": [
       "<Figure size 640x480 with 1 Axes>"
      ]
     },
     "metadata": {},
     "output_type": "display_data"
    }
   ],
   "source": [
    "\n",
    "if 'cost' in ua.columns and 'spend' not in ua.columns:\n",
    "    ua.rename(columns={\"cost\": \"spend\"}, inplace=True)\n",
    "\n",
    "if 'revenue' not in purchases.columns and 'amount' in purchases.columns:\n",
    "    purchases.rename(columns={'amount': 'revenue'}, inplace=True)\n",
    "\n",
    "# --- Creative-based campaign performance ---\n",
    "\n",
    "creative_summary = ua.groupby(\"creative_id\").agg({\n",
    "    \"spend\": \"sum\",\n",
    "    \"impressions\": \"sum\",\n",
    "    \"clicks\": \"sum\",\n",
    "    \"installs\": \"sum\"\n",
    "}).reset_index()\n",
    "\n",
    "creative_summary[\"CPI\"] = creative_summary[\"spend\"] / creative_summary[\"installs\"].replace(0, np.nan)\n",
    "creative_summary[\"CTR\"] = creative_summary[\"clicks\"] / creative_summary[\"impressions\"].replace(0, np.nan)\n",
    "creative_summary[\"CVR\"] = creative_summary[\"installs\"] / creative_summary[\"clicks\"].replace(0, np.nan)\n",
    "\n",
    "print(\"📊 Creative Based Campaign Summary\")\n",
    "print(creative_summary.head())\n",
    "\n",
    "# --- User-based performance analysis ---\n",
    "\n",
    "user_perf = installs.merge(purchases, on=\"user_id\", how=\"left\").fillna({\"revenue\": 0})\n",
    "\n",
    "total_revenue = user_perf[\"revenue\"].sum()\n",
    "total_installs = installs[\"user_id\"].nunique()\n",
    "\n",
    "print(f\"\\n💰 Total Revenue: {total_revenue}\")\n",
    "print(f\"📥 Total Installation (Unique User): {total_installs}\")\n",
    "print(f\"📈 Average Income (LTV Proxy): {total_revenue / total_installs:.2f}\")\n",
    "\n",
    "# --- Funnel analyze (Retention) ---\n",
    "\n",
    "d1_retention_rate = retention['d1_retained'].mean()\n",
    "d7_retention_rate = retention['d7_retained'].mean()\n",
    "d30_retention_rate = retention['d30_retained'].mean()\n",
    "\n",
    "print(f\"\\n🔄 D1 Retention Rate: {d1_retention_rate:.2%}\")\n",
    "print(f\"🔄 D7 Retention Rate: {d7_retention_rate:.2%}\")\n",
    "print(f\"🔄 D30 Retention Rate: {d30_retention_rate:.2%}\")\n",
    "\n",
    "# --- KPIs ---\n",
    "\n",
    "kpis = creative_summary[[\"CPI\", \"CTR\", \"CVR\"]].mean()\n",
    "\n",
    "kpis.plot(kind='bar', title='Average KPI Values')\n",
    "plt.ylabel('Oran')\n",
    "plt.ylim(0, 1)\n",
    "plt.show()"
   ]
  },
  {
   "cell_type": "code",
   "execution_count": null,
   "id": "9ee31bbf-ceec-4963-98ae-891856a24722",
   "metadata": {},
   "outputs": [],
   "source": []
  }
 ],
 "metadata": {
  "kernelspec": {
   "display_name": "Python 3 (ipykernel)",
   "language": "python",
   "name": "python3"
  },
  "language_info": {
   "codemirror_mode": {
    "name": "ipython",
    "version": 3
   },
   "file_extension": ".py",
   "mimetype": "text/x-python",
   "name": "python",
   "nbconvert_exporter": "python",
   "pygments_lexer": "ipython3",
   "version": "3.12.7"
  }
 },
 "nbformat": 4,
 "nbformat_minor": 5
}
