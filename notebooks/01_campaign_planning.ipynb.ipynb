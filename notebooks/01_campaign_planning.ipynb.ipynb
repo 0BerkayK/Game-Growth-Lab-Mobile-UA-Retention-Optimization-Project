{
 "cells": [
  {
   "cell_type": "code",
   "execution_count": 1,
   "id": "e4bf5289-72cf-44c7-9b47-659e68b72aee",
   "metadata": {},
   "outputs": [],
   "source": [
    "import pandas as pd\n",
    "import matplotlib.pyplot as plt\n",
    "import seaborn as sns"
   ]
  },
  {
   "cell_type": "code",
   "execution_count": 2,
   "id": "17e7c0f5-fd0d-4027-862f-14884d20e7ca",
   "metadata": {},
   "outputs": [
    {
     "data": {
      "text/html": [
       "<div>\n",
       "<style scoped>\n",
       "    .dataframe tbody tr th:only-of-type {\n",
       "        vertical-align: middle;\n",
       "    }\n",
       "\n",
       "    .dataframe tbody tr th {\n",
       "        vertical-align: top;\n",
       "    }\n",
       "\n",
       "    .dataframe thead th {\n",
       "        text-align: right;\n",
       "    }\n",
       "</style>\n",
       "<table border=\"1\" class=\"dataframe\">\n",
       "  <thead>\n",
       "    <tr style=\"text-align: right;\">\n",
       "      <th></th>\n",
       "      <th>platform</th>\n",
       "      <th>creative_id</th>\n",
       "      <th>impressions</th>\n",
       "      <th>clicks</th>\n",
       "      <th>installs</th>\n",
       "      <th>cost</th>\n",
       "    </tr>\n",
       "  </thead>\n",
       "  <tbody>\n",
       "    <tr>\n",
       "      <th>0</th>\n",
       "      <td>Google UAC</td>\n",
       "      <td>D</td>\n",
       "      <td>5860</td>\n",
       "      <td>101</td>\n",
       "      <td>51</td>\n",
       "      <td>199.21</td>\n",
       "    </tr>\n",
       "    <tr>\n",
       "      <th>1</th>\n",
       "      <td>Meta</td>\n",
       "      <td>C</td>\n",
       "      <td>18526</td>\n",
       "      <td>228</td>\n",
       "      <td>124</td>\n",
       "      <td>200.28</td>\n",
       "    </tr>\n",
       "    <tr>\n",
       "      <th>2</th>\n",
       "      <td>Google UAC</td>\n",
       "      <td>B</td>\n",
       "      <td>5769</td>\n",
       "      <td>224</td>\n",
       "      <td>128</td>\n",
       "      <td>50.19</td>\n",
       "    </tr>\n",
       "    <tr>\n",
       "      <th>3</th>\n",
       "      <td>TikTok</td>\n",
       "      <td>A</td>\n",
       "      <td>9555</td>\n",
       "      <td>329</td>\n",
       "      <td>66</td>\n",
       "      <td>55.77</td>\n",
       "    </tr>\n",
       "    <tr>\n",
       "      <th>4</th>\n",
       "      <td>Google UAC</td>\n",
       "      <td>C</td>\n",
       "      <td>7558</td>\n",
       "      <td>117</td>\n",
       "      <td>37</td>\n",
       "      <td>141.59</td>\n",
       "    </tr>\n",
       "  </tbody>\n",
       "</table>\n",
       "</div>"
      ],
      "text/plain": [
       "     platform creative_id  impressions  clicks  installs    cost\n",
       "0  Google UAC           D         5860     101        51  199.21\n",
       "1        Meta           C        18526     228       124  200.28\n",
       "2  Google UAC           B         5769     224       128   50.19\n",
       "3      TikTok           A         9555     329        66   55.77\n",
       "4  Google UAC           C         7558     117        37  141.59"
      ]
     },
     "execution_count": 2,
     "metadata": {},
     "output_type": "execute_result"
    }
   ],
   "source": [
    "df = pd.read_csv(\"../data/user_acquisition.csv\")\n",
    "df.head()"
   ]
  },
  {
   "cell_type": "code",
   "execution_count": 8,
   "id": "ce87f85c-89a9-43f1-b658-f9f8ec8a0ad4",
   "metadata": {},
   "outputs": [
    {
     "data": {
      "text/html": [
       "<div>\n",
       "<style scoped>\n",
       "    .dataframe tbody tr th:only-of-type {\n",
       "        vertical-align: middle;\n",
       "    }\n",
       "\n",
       "    .dataframe tbody tr th {\n",
       "        vertical-align: top;\n",
       "    }\n",
       "\n",
       "    .dataframe thead th {\n",
       "        text-align: right;\n",
       "    }\n",
       "</style>\n",
       "<table border=\"1\" class=\"dataframe\">\n",
       "  <thead>\n",
       "    <tr style=\"text-align: right;\">\n",
       "      <th></th>\n",
       "      <th>platform</th>\n",
       "      <th>creative_id</th>\n",
       "      <th>CTR</th>\n",
       "      <th>CVR</th>\n",
       "      <th>CPI</th>\n",
       "    </tr>\n",
       "  </thead>\n",
       "  <tbody>\n",
       "    <tr>\n",
       "      <th>0</th>\n",
       "      <td>Google UAC</td>\n",
       "      <td>D</td>\n",
       "      <td>0.017235</td>\n",
       "      <td>0.504950</td>\n",
       "      <td>3.906078</td>\n",
       "    </tr>\n",
       "    <tr>\n",
       "      <th>1</th>\n",
       "      <td>Meta</td>\n",
       "      <td>C</td>\n",
       "      <td>0.012307</td>\n",
       "      <td>0.543860</td>\n",
       "      <td>1.615161</td>\n",
       "    </tr>\n",
       "    <tr>\n",
       "      <th>2</th>\n",
       "      <td>Google UAC</td>\n",
       "      <td>B</td>\n",
       "      <td>0.038828</td>\n",
       "      <td>0.571429</td>\n",
       "      <td>0.392109</td>\n",
       "    </tr>\n",
       "    <tr>\n",
       "      <th>3</th>\n",
       "      <td>TikTok</td>\n",
       "      <td>A</td>\n",
       "      <td>0.034432</td>\n",
       "      <td>0.200608</td>\n",
       "      <td>0.845000</td>\n",
       "    </tr>\n",
       "    <tr>\n",
       "      <th>4</th>\n",
       "      <td>Google UAC</td>\n",
       "      <td>C</td>\n",
       "      <td>0.015480</td>\n",
       "      <td>0.316239</td>\n",
       "      <td>3.826757</td>\n",
       "    </tr>\n",
       "  </tbody>\n",
       "</table>\n",
       "</div>"
      ],
      "text/plain": [
       "     platform creative_id       CTR       CVR       CPI\n",
       "0  Google UAC           D  0.017235  0.504950  3.906078\n",
       "1        Meta           C  0.012307  0.543860  1.615161\n",
       "2  Google UAC           B  0.038828  0.571429  0.392109\n",
       "3      TikTok           A  0.034432  0.200608  0.845000\n",
       "4  Google UAC           C  0.015480  0.316239  3.826757"
      ]
     },
     "execution_count": 8,
     "metadata": {},
     "output_type": "execute_result"
    }
   ],
   "source": [
    "#KPI Calculations\n",
    "\n",
    "df[\"CTR\"] = df[\"clicks\"] / df[\"impressions\"]\n",
    "df[\"CVR\"] = df[\"installs\"] / df[\"clicks\"]\n",
    "df[\"CPI\"] = df[\"cost\"] / df[\"installs\"]\n",
    "\n",
    "df.replace([float(\"inf\"), -float(\"inf\")], pd.NA, inplace=True)\n",
    "df.dropna(subset=[\"CTR\", \"CVR\", \"CPI\"], inplace=True)\n",
    "\n",
    "df[[\"platform\", \"creative_id\", \"CTR\", \"CVR\", \"CPI\"]].head()\n"
   ]
  },
  {
   "cell_type": "code",
   "execution_count": 9,
   "id": "eae6744f-507d-48ee-bc50-770003fca29f",
   "metadata": {},
   "outputs": [
    {
     "data": {
      "text/html": [
       "<div>\n",
       "<style scoped>\n",
       "    .dataframe tbody tr th:only-of-type {\n",
       "        vertical-align: middle;\n",
       "    }\n",
       "\n",
       "    .dataframe tbody tr th {\n",
       "        vertical-align: top;\n",
       "    }\n",
       "\n",
       "    .dataframe thead th {\n",
       "        text-align: right;\n",
       "    }\n",
       "</style>\n",
       "<table border=\"1\" class=\"dataframe\">\n",
       "  <thead>\n",
       "    <tr style=\"text-align: right;\">\n",
       "      <th></th>\n",
       "      <th>platform</th>\n",
       "      <th>CTR</th>\n",
       "      <th>CVR</th>\n",
       "      <th>CPI</th>\n",
       "    </tr>\n",
       "  </thead>\n",
       "  <tbody>\n",
       "    <tr>\n",
       "      <th>0</th>\n",
       "      <td>Google UAC</td>\n",
       "      <td>0.029612</td>\n",
       "      <td>0.434072</td>\n",
       "      <td>2.007643</td>\n",
       "    </tr>\n",
       "    <tr>\n",
       "      <th>1</th>\n",
       "      <td>Meta</td>\n",
       "      <td>0.028937</td>\n",
       "      <td>0.363461</td>\n",
       "      <td>2.150275</td>\n",
       "    </tr>\n",
       "    <tr>\n",
       "      <th>2</th>\n",
       "      <td>TikTok</td>\n",
       "      <td>0.029880</td>\n",
       "      <td>0.390949</td>\n",
       "      <td>1.713299</td>\n",
       "    </tr>\n",
       "  </tbody>\n",
       "</table>\n",
       "</div>"
      ],
      "text/plain": [
       "     platform       CTR       CVR       CPI\n",
       "0  Google UAC  0.029612  0.434072  2.007643\n",
       "1        Meta  0.028937  0.363461  2.150275\n",
       "2      TikTok  0.029880  0.390949  1.713299"
      ]
     },
     "execution_count": 9,
     "metadata": {},
     "output_type": "execute_result"
    }
   ],
   "source": [
    "# KPI Average\n",
    "\n",
    "platform_means = df.groupby(\"platform\")[[\"CTR\", \"CVR\", \"CPI\"]].mean().reset_index()\n",
    "platform_means\n"
   ]
  },
  {
   "cell_type": "code",
   "execution_count": 10,
   "id": "824de38c-1ce9-467a-ae10-dacd1785e3c4",
   "metadata": {},
   "outputs": [
    {
     "data": {
      "image/png": "[encoded data removed]",
      "text/plain": [
       "<Figure size 1800x500 with 3 Axes>"
      ]
     },
     "metadata": {},
     "output_type": "display_data"
    }
   ],
   "source": [
    "# KPI Comparison Bar charts\n",
    "\n",
    "fig, axes = plt.subplots(1, 3, figsize=(18, 5))\n",
    "\n",
    "sns.barplot(data=platform_means, x=\"platform\", y=\"CTR\", ax=axes[0])\n",
    "axes[0].set_title(\"CTR Karşılaştırması\")\n",
    "\n",
    "sns.barplot(data=platform_means, x=\"platform\", y=\"CVR\", ax=axes[1])\n",
    "axes[1].set_title(\"CVR Karşılaştırması\")\n",
    "\n",
    "sns.barplot(data=platform_means, x=\"platform\", y=\"CPI\", ax=axes[2])\n",
    "axes[2].set_title(\"CPI Karşılaştırması\")\n",
    "\n",
    "plt.tight_layout()\n",
    "plt.show()\n"
   ]
  },
  {
   "cell_type": "code",
   "execution_count": 11,
   "id": "81c07e67-a75d-44d4-8c81-3a6e097af8f8",
   "metadata": {},
   "outputs": [
    {
     "data": {
      "image/png": "[encoded data removed]",
      "text/plain": [
       "<Figure size 1000x600 with 1 Axes>"
      ]
     },
     "metadata": {},
     "output_type": "display_data"
    }
   ],
   "source": [
    "# Creative (A/B) Comparison\n",
    "\n",
    "plt.figure(figsize=(10, 6))\n",
    "sns.boxplot(data=df, x=\"creative_id\", y=\"CPI\")\n",
    "plt.title(\"Kreatif Bazlı CPI Dağılımı\")\n",
    "plt.show()"
   ]
  },
  {
   "cell_type": "code",
   "execution_count": 12,
   "id": "24e82683-59a9-48d2-8f03-3b00bbed8fe4",
   "metadata": {},
   "outputs": [
    {
     "data": {
      "text/html": [
       "<div>\n",
       "<style scoped>\n",
       "    .dataframe tbody tr th:only-of-type {\n",
       "        vertical-align: middle;\n",
       "    }\n",
       "\n",
       "    .dataframe tbody tr th {\n",
       "        vertical-align: top;\n",
       "    }\n",
       "\n",
       "    .dataframe thead th {\n",
       "        text-align: right;\n",
       "    }\n",
       "</style>\n",
       "<table border=\"1\" class=\"dataframe\">\n",
       "  <thead>\n",
       "    <tr style=\"text-align: right;\">\n",
       "      <th></th>\n",
       "      <th>platform</th>\n",
       "      <th>creative_id</th>\n",
       "      <th>CTR</th>\n",
       "      <th>CVR</th>\n",
       "      <th>CPI</th>\n",
       "    </tr>\n",
       "  </thead>\n",
       "  <tbody>\n",
       "    <tr>\n",
       "      <th>10</th>\n",
       "      <td>TikTok</td>\n",
       "      <td>C</td>\n",
       "      <td>0.030256</td>\n",
       "      <td>0.404973</td>\n",
       "      <td>1.435036</td>\n",
       "    </tr>\n",
       "  </tbody>\n",
       "</table>\n",
       "</div>"
      ],
      "text/plain": [
       "   platform creative_id       CTR       CVR       CPI\n",
       "10   TikTok           C  0.030256  0.404973  1.435036"
      ]
     },
     "execution_count": 12,
     "metadata": {},
     "output_type": "execute_result"
    }
   ],
   "source": [
    "# Choose the Most Efficient Combination\n",
    "\n",
    "grouped = df.groupby([\"platform\", \"creative_id\"]).agg({\n",
    "    \"CTR\": \"mean\",\n",
    "    \"CVR\": \"mean\",\n",
    "    \"CPI\": \"mean\"\n",
    "}).reset_index()\n",
    "\n",
    "best = grouped.sort_values(by=[\"CPI\", \"CVR\"], ascending=[True, False]).head(1)\n",
    "best.to_csv(\"../data/best_channel_creative.csv\", index=False)\n",
    "best\n"
   ]
  },
  {
   "cell_type": "code",
   "execution_count": null,
   "id": "2f5d8c2c-4808-4926-b17b-4c4619fd6d35",
   "metadata": {},
   "outputs": [],
   "source": []
  }
 ],
 "metadata": {
  "kernelspec": {
   "display_name": "Python 3 (ipykernel)",
   "language": "python",
   "name": "python3"
  },
  "language_info": {
   "codemirror_mode": {
    "name": "ipython",
    "version": 3
   },
   "file_extension": ".py",
   "mimetype": "text/x-python",
   "name": "python",
   "nbconvert_exporter": "python",
   "pygments_lexer": "ipython3",
   "version": "3.12.7"
  }
 },
 "nbformat": 4,
 "nbformat_minor": 5
}
